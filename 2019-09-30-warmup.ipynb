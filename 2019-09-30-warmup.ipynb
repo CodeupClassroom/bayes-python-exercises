{
 "cells": [
  {
   "cell_type": "markdown",
   "metadata": {},
   "source": [
    "# Monday Morning Warmup\n",
    "\n",
    "> Take the word EASY: Its first three letters — E, A and S — are the fifth, first, and nineteenth letters, respectively, in the alphabet. If you add 5, 1, and 19, you get 25, which is the value of the alphabetical position of Y, the last letter of EASY.\n",
    ">\n",
    "> Can you think of a common five-letter word that works in the opposite way — in which the value of the alphabetical positions of its last four letters add up to the value of the alphabetical position of its first letter?\n"
   ]
  },
  {
   "cell_type": "code",
   "execution_count": 28,
   "metadata": {},
   "outputs": [
    {
     "name": "stdout",
     "output_type": "stream",
     "text": [
      "There are 235,886 words.\n",
      "['capivi', 'capkin', 'capless', 'caplin', 'capmaker']\n"
     ]
    }
   ],
   "source": [
    "with open('/usr/share/dict/words') as f:\n",
    "    words = f.read().strip().split('\\n')\n",
    "\n",
    "print(f'There are {len(words):,} words.')\n",
    "print(words[30000:30005])    "
   ]
  },
  {
   "cell_type": "markdown",
   "metadata": {},
   "source": [
    "\n",
    "Plan:\n",
    "\n",
    "1. Find the 5 letter words\n",
    "1. Write a function that calculates the alphabetical position of a letter\n",
    "1. loop through the 5 letter words\n",
    "    1. Calculate the alphabetical position of each letter\n",
    "    1. Check if the sum of the last 4 == the first letter"
   ]
  },
  {
   "cell_type": "code",
   "execution_count": 29,
   "metadata": {},
   "outputs": [
    {
     "data": {
      "text/plain": [
       "1"
      ]
     },
     "execution_count": 29,
     "metadata": {},
     "output_type": "execute_result"
    }
   ],
   "source": [
    "five_letter_words = [w for w in words if len(w) == 5]\n",
    "\n",
    "def alphabetical_position(c):\n",
    "    return 'abcdefghijklmnopqrstuvwxyz'.index(c.lower()) + 1\n",
    "def alphabetical_value(letters):\n",
    "    return sum([alphabetical_position(c) for c in letters])\n",
    "\n",
    "alphabetical_position('a')"
   ]
  },
  {
   "cell_type": "code",
   "execution_count": 30,
   "metadata": {},
   "outputs": [
    {
     "data": {
      "text/plain": [
       "25"
      ]
     },
     "execution_count": 30,
     "metadata": {},
     "output_type": "execute_result"
    }
   ],
   "source": [
    "alphabetical_position('y')"
   ]
  },
  {
   "cell_type": "code",
   "execution_count": 32,
   "metadata": {},
   "outputs": [
    {
     "data": {
      "text/plain": [
       "3"
      ]
     },
     "execution_count": 32,
     "metadata": {},
     "output_type": "execute_result"
    }
   ],
   "source": [
    "alphabetical_value('ab')"
   ]
  },
  {
   "cell_type": "code",
   "execution_count": 31,
   "metadata": {},
   "outputs": [
    {
     "data": {
      "text/plain": [
       "52"
      ]
     },
     "execution_count": 31,
     "metadata": {},
     "output_type": "execute_result"
    }
   ],
   "source": [
    "alphabetical_value('zz')"
   ]
  },
  {
   "cell_type": "code",
   "execution_count": 33,
   "metadata": {},
   "outputs": [
    {
     "name": "stdout",
     "output_type": "stream",
     "text": [
      "raffe\n",
      "Sadie\n",
      "sifac\n",
      "table\n",
      "Uchee\n",
      "vakia\n",
      "Vicia\n",
      "wanga\n",
      "whack\n",
      "Xicak\n",
      "yeara\n",
      "zebra\n"
     ]
    }
   ],
   "source": [
    "for word in five_letter_words:\n",
    "    # first_letter, *last_four_letters = word\n",
    "    first_letter = word[0]\n",
    "    last_four_letters = word[1:]\n",
    "    if alphabetical_value(first_letter) == alphabetical_value(last_four_letters):\n",
    "        print(word)"
   ]
  },
  {
   "cell_type": "markdown",
   "metadata": {},
   "source": [
    "With pandas:"
   ]
  },
  {
   "cell_type": "code",
   "execution_count": 43,
   "metadata": {},
   "outputs": [
    {
     "data": {
      "text/html": [
       "<div>\n",
       "<style scoped>\n",
       "    .dataframe tbody tr th:only-of-type {\n",
       "        vertical-align: middle;\n",
       "    }\n",
       "\n",
       "    .dataframe tbody tr th {\n",
       "        vertical-align: top;\n",
       "    }\n",
       "\n",
       "    .dataframe thead th {\n",
       "        text-align: right;\n",
       "    }\n",
       "</style>\n",
       "<table border=\"1\" class=\"dataframe\">\n",
       "  <thead>\n",
       "    <tr style=\"text-align: right;\">\n",
       "      <th></th>\n",
       "      <th>word</th>\n",
       "    </tr>\n",
       "  </thead>\n",
       "  <tbody>\n",
       "    <tr>\n",
       "      <td>0</td>\n",
       "      <td>A</td>\n",
       "    </tr>\n",
       "    <tr>\n",
       "      <td>1</td>\n",
       "      <td>a</td>\n",
       "    </tr>\n",
       "    <tr>\n",
       "      <td>2</td>\n",
       "      <td>aa</td>\n",
       "    </tr>\n",
       "    <tr>\n",
       "      <td>3</td>\n",
       "      <td>aal</td>\n",
       "    </tr>\n",
       "    <tr>\n",
       "      <td>4</td>\n",
       "      <td>aalii</td>\n",
       "    </tr>\n",
       "  </tbody>\n",
       "</table>\n",
       "</div>"
      ],
      "text/plain": [
       "    word\n",
       "0      A\n",
       "1      a\n",
       "2     aa\n",
       "3    aal\n",
       "4  aalii"
      ]
     },
     "execution_count": 43,
     "metadata": {},
     "output_type": "execute_result"
    }
   ],
   "source": [
    "import pandas as pd\n",
    "\n",
    "df = pd.DataFrame({'word': words})\n",
    "df.head()"
   ]
  },
  {
   "cell_type": "code",
   "execution_count": 45,
   "metadata": {},
   "outputs": [
    {
     "data": {
      "text/plain": [
       "0         False\n",
       "1         False\n",
       "2         False\n",
       "3         False\n",
       "4          True\n",
       "          ...  \n",
       "235881    False\n",
       "235882    False\n",
       "235883    False\n",
       "235884    False\n",
       "235885    False\n",
       "Name: word, Length: 235886, dtype: bool"
      ]
     },
     "execution_count": 45,
     "metadata": {},
     "output_type": "execute_result"
    }
   ],
   "source": [
    "df.word.apply(len) == 5"
   ]
  },
  {
   "cell_type": "code",
   "execution_count": 46,
   "metadata": {},
   "outputs": [
    {
     "data": {
      "text/html": [
       "<div>\n",
       "<style scoped>\n",
       "    .dataframe tbody tr th:only-of-type {\n",
       "        vertical-align: middle;\n",
       "    }\n",
       "\n",
       "    .dataframe tbody tr th {\n",
       "        vertical-align: top;\n",
       "    }\n",
       "\n",
       "    .dataframe thead th {\n",
       "        text-align: right;\n",
       "    }\n",
       "</style>\n",
       "<table border=\"1\" class=\"dataframe\">\n",
       "  <thead>\n",
       "    <tr style=\"text-align: right;\">\n",
       "      <th></th>\n",
       "      <th>word</th>\n",
       "    </tr>\n",
       "  </thead>\n",
       "  <tbody>\n",
       "    <tr>\n",
       "      <td>4</td>\n",
       "      <td>aalii</td>\n",
       "    </tr>\n",
       "    <tr>\n",
       "      <td>9</td>\n",
       "      <td>Aaron</td>\n",
       "    </tr>\n",
       "    <tr>\n",
       "      <td>20</td>\n",
       "      <td>abaca</td>\n",
       "    </tr>\n",
       "    <tr>\n",
       "      <td>27</td>\n",
       "      <td>aback</td>\n",
       "    </tr>\n",
       "    <tr>\n",
       "      <td>35</td>\n",
       "      <td>abaff</td>\n",
       "    </tr>\n",
       "  </tbody>\n",
       "</table>\n",
       "</div>"
      ],
      "text/plain": [
       "     word\n",
       "4   aalii\n",
       "9   Aaron\n",
       "20  abaca\n",
       "27  aback\n",
       "35  abaff"
      ]
     },
     "execution_count": 46,
     "metadata": {},
     "output_type": "execute_result"
    }
   ],
   "source": [
    "# just the 5 letter words\n",
    "df = df[df.word.apply(len) == 5]\n",
    "df.head()"
   ]
  },
  {
   "cell_type": "code",
   "execution_count": 47,
   "metadata": {},
   "outputs": [
    {
     "data": {
      "text/html": [
       "<div>\n",
       "<style scoped>\n",
       "    .dataframe tbody tr th:only-of-type {\n",
       "        vertical-align: middle;\n",
       "    }\n",
       "\n",
       "    .dataframe tbody tr th {\n",
       "        vertical-align: top;\n",
       "    }\n",
       "\n",
       "    .dataframe thead th {\n",
       "        text-align: right;\n",
       "    }\n",
       "</style>\n",
       "<table border=\"1\" class=\"dataframe\">\n",
       "  <thead>\n",
       "    <tr style=\"text-align: right;\">\n",
       "      <th></th>\n",
       "      <th>word</th>\n",
       "      <th>first_letter</th>\n",
       "      <th>last_four</th>\n",
       "    </tr>\n",
       "  </thead>\n",
       "  <tbody>\n",
       "    <tr>\n",
       "      <td>4</td>\n",
       "      <td>aalii</td>\n",
       "      <td>a</td>\n",
       "      <td>alii</td>\n",
       "    </tr>\n",
       "    <tr>\n",
       "      <td>9</td>\n",
       "      <td>Aaron</td>\n",
       "      <td>A</td>\n",
       "      <td>aron</td>\n",
       "    </tr>\n",
       "    <tr>\n",
       "      <td>20</td>\n",
       "      <td>abaca</td>\n",
       "      <td>a</td>\n",
       "      <td>baca</td>\n",
       "    </tr>\n",
       "    <tr>\n",
       "      <td>27</td>\n",
       "      <td>aback</td>\n",
       "      <td>a</td>\n",
       "      <td>back</td>\n",
       "    </tr>\n",
       "    <tr>\n",
       "      <td>35</td>\n",
       "      <td>abaff</td>\n",
       "      <td>a</td>\n",
       "      <td>baff</td>\n",
       "    </tr>\n",
       "    <tr>\n",
       "      <td>...</td>\n",
       "      <td>...</td>\n",
       "      <td>...</td>\n",
       "      <td>...</td>\n",
       "    </tr>\n",
       "    <tr>\n",
       "      <td>235714</td>\n",
       "      <td>zudda</td>\n",
       "      <td>z</td>\n",
       "      <td>udda</td>\n",
       "    </tr>\n",
       "    <tr>\n",
       "      <td>235749</td>\n",
       "      <td>zygal</td>\n",
       "      <td>z</td>\n",
       "      <td>ygal</td>\n",
       "    </tr>\n",
       "    <tr>\n",
       "      <td>235796</td>\n",
       "      <td>zygon</td>\n",
       "      <td>z</td>\n",
       "      <td>ygon</td>\n",
       "    </tr>\n",
       "    <tr>\n",
       "      <td>235840</td>\n",
       "      <td>zymic</td>\n",
       "      <td>z</td>\n",
       "      <td>ymic</td>\n",
       "    </tr>\n",
       "    <tr>\n",
       "      <td>235841</td>\n",
       "      <td>zymin</td>\n",
       "      <td>z</td>\n",
       "      <td>ymin</td>\n",
       "    </tr>\n",
       "  </tbody>\n",
       "</table>\n",
       "<p>10230 rows × 3 columns</p>\n",
       "</div>"
      ],
      "text/plain": [
       "         word first_letter last_four\n",
       "4       aalii            a      alii\n",
       "9       Aaron            A      aron\n",
       "20      abaca            a      baca\n",
       "27      aback            a      back\n",
       "35      abaff            a      baff\n",
       "...       ...          ...       ...\n",
       "235714  zudda            z      udda\n",
       "235749  zygal            z      ygal\n",
       "235796  zygon            z      ygon\n",
       "235840  zymic            z      ymic\n",
       "235841  zymin            z      ymin\n",
       "\n",
       "[10230 rows x 3 columns]"
      ]
     },
     "execution_count": 47,
     "metadata": {},
     "output_type": "execute_result"
    }
   ],
   "source": [
    "df['first_letter'] = df.word.str[0]\n",
    "df['last_four'] = df.word.str[1:]\n",
    "df"
   ]
  },
  {
   "cell_type": "code",
   "execution_count": 48,
   "metadata": {},
   "outputs": [
    {
     "data": {
      "text/html": [
       "<div>\n",
       "<style scoped>\n",
       "    .dataframe tbody tr th:only-of-type {\n",
       "        vertical-align: middle;\n",
       "    }\n",
       "\n",
       "    .dataframe tbody tr th {\n",
       "        vertical-align: top;\n",
       "    }\n",
       "\n",
       "    .dataframe thead th {\n",
       "        text-align: right;\n",
       "    }\n",
       "</style>\n",
       "<table border=\"1\" class=\"dataframe\">\n",
       "  <thead>\n",
       "    <tr style=\"text-align: right;\">\n",
       "      <th></th>\n",
       "      <th>word</th>\n",
       "      <th>first_letter</th>\n",
       "      <th>last_four</th>\n",
       "      <th>first_letter_val</th>\n",
       "      <th>last_4_val</th>\n",
       "    </tr>\n",
       "  </thead>\n",
       "  <tbody>\n",
       "    <tr>\n",
       "      <td>4</td>\n",
       "      <td>aalii</td>\n",
       "      <td>a</td>\n",
       "      <td>alii</td>\n",
       "      <td>1</td>\n",
       "      <td>31</td>\n",
       "    </tr>\n",
       "    <tr>\n",
       "      <td>9</td>\n",
       "      <td>Aaron</td>\n",
       "      <td>A</td>\n",
       "      <td>aron</td>\n",
       "      <td>1</td>\n",
       "      <td>48</td>\n",
       "    </tr>\n",
       "    <tr>\n",
       "      <td>20</td>\n",
       "      <td>abaca</td>\n",
       "      <td>a</td>\n",
       "      <td>baca</td>\n",
       "      <td>1</td>\n",
       "      <td>7</td>\n",
       "    </tr>\n",
       "    <tr>\n",
       "      <td>27</td>\n",
       "      <td>aback</td>\n",
       "      <td>a</td>\n",
       "      <td>back</td>\n",
       "      <td>1</td>\n",
       "      <td>17</td>\n",
       "    </tr>\n",
       "    <tr>\n",
       "      <td>35</td>\n",
       "      <td>abaff</td>\n",
       "      <td>a</td>\n",
       "      <td>baff</td>\n",
       "      <td>1</td>\n",
       "      <td>15</td>\n",
       "    </tr>\n",
       "    <tr>\n",
       "      <td>...</td>\n",
       "      <td>...</td>\n",
       "      <td>...</td>\n",
       "      <td>...</td>\n",
       "      <td>...</td>\n",
       "      <td>...</td>\n",
       "    </tr>\n",
       "    <tr>\n",
       "      <td>235714</td>\n",
       "      <td>zudda</td>\n",
       "      <td>z</td>\n",
       "      <td>udda</td>\n",
       "      <td>26</td>\n",
       "      <td>30</td>\n",
       "    </tr>\n",
       "    <tr>\n",
       "      <td>235749</td>\n",
       "      <td>zygal</td>\n",
       "      <td>z</td>\n",
       "      <td>ygal</td>\n",
       "      <td>26</td>\n",
       "      <td>45</td>\n",
       "    </tr>\n",
       "    <tr>\n",
       "      <td>235796</td>\n",
       "      <td>zygon</td>\n",
       "      <td>z</td>\n",
       "      <td>ygon</td>\n",
       "      <td>26</td>\n",
       "      <td>61</td>\n",
       "    </tr>\n",
       "    <tr>\n",
       "      <td>235840</td>\n",
       "      <td>zymic</td>\n",
       "      <td>z</td>\n",
       "      <td>ymic</td>\n",
       "      <td>26</td>\n",
       "      <td>50</td>\n",
       "    </tr>\n",
       "    <tr>\n",
       "      <td>235841</td>\n",
       "      <td>zymin</td>\n",
       "      <td>z</td>\n",
       "      <td>ymin</td>\n",
       "      <td>26</td>\n",
       "      <td>61</td>\n",
       "    </tr>\n",
       "  </tbody>\n",
       "</table>\n",
       "<p>10230 rows × 5 columns</p>\n",
       "</div>"
      ],
      "text/plain": [
       "         word first_letter last_four  first_letter_val  last_4_val\n",
       "4       aalii            a      alii                 1          31\n",
       "9       Aaron            A      aron                 1          48\n",
       "20      abaca            a      baca                 1           7\n",
       "27      aback            a      back                 1          17\n",
       "35      abaff            a      baff                 1          15\n",
       "...       ...          ...       ...               ...         ...\n",
       "235714  zudda            z      udda                26          30\n",
       "235749  zygal            z      ygal                26          45\n",
       "235796  zygon            z      ygon                26          61\n",
       "235840  zymic            z      ymic                26          50\n",
       "235841  zymin            z      ymin                26          61\n",
       "\n",
       "[10230 rows x 5 columns]"
      ]
     },
     "execution_count": 48,
     "metadata": {},
     "output_type": "execute_result"
    }
   ],
   "source": [
    "df['first_letter_val'] = df.first_letter.apply(alphabetical_position)\n",
    "df['last_4_val'] = df.last_four.apply(alphabetical_value)\n",
    "df"
   ]
  },
  {
   "cell_type": "code",
   "execution_count": 50,
   "metadata": {},
   "outputs": [
    {
     "data": {
      "text/plain": [
       "162735    raffe\n",
       "172406    Sadie\n",
       "181168    sifac\n",
       "197206    table\n",
       "210149    Uchee\n",
       "226709    vakia\n",
       "228545    Vicia\n",
       "230352    wanga\n",
       "231506    whack\n",
       "234120    Xicak\n",
       "234512    yeara\n",
       "235088    zebra\n",
       "Name: word, dtype: object"
      ]
     },
     "execution_count": 50,
     "metadata": {},
     "output_type": "execute_result"
    }
   ],
   "source": [
    "df[df.first_letter_val == df.last_4_val].word"
   ]
  }
 ],
 "metadata": {
  "kernelspec": {
   "display_name": "Python 3",
   "language": "python",
   "name": "python3"
  },
  "language_info": {
   "codemirror_mode": {
    "name": "ipython",
    "version": 3
   },
   "file_extension": ".py",
   "mimetype": "text/x-python",
   "name": "python",
   "nbconvert_exporter": "python",
   "pygments_lexer": "ipython3",
   "version": "3.7.3"
  }
 },
 "nbformat": 4,
 "nbformat_minor": 2
}
