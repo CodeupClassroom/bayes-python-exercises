{
 "cells": [
  {
   "cell_type": "code",
   "execution_count": 1,
   "metadata": {},
   "outputs": [],
   "source": [
    "greeting = \"Good afternoon\"\n",
    "command_mode = \"To enable edit mode, hit ESC from inside a green cell\"\n",
    "edit_mode = \"Click inside of a cell to edit the contents\"\n"
   ]
  },
  {
   "cell_type": "code",
   "execution_count": 2,
   "metadata": {},
   "outputs": [],
   "source": [
    "how_to_get_help_in_command_mode = \"h\""
   ]
  },
  {
   "cell_type": "code",
   "execution_count": null,
   "metadata": {},
   "outputs": [],
   "source": []
  },
  {
   "cell_type": "code",
   "execution_count": 3,
   "metadata": {},
   "outputs": [],
   "source": [
    "make_a_new_cell_below = \"In command mode, hit B to create a cell below\"\n",
    "make_a_new_cell_above = \"In command mode, hit A to create a cell above\""
   ]
  },
  {
   "cell_type": "code",
   "execution_count": null,
   "metadata": {},
   "outputs": [],
   "source": [
    "undo_inside_edit_mode = \"Command + Z\""
   ]
  },
  {
   "cell_type": "code",
   "execution_count": null,
   "metadata": {},
   "outputs": [],
   "source": [
    "undo_from_command_mode = \"z\""
   ]
  },
  {
   "cell_type": "markdown",
   "metadata": {},
   "source": [
    "# 10 September 2019\n",
    "\n",
    "## Thought for the Day\n",
    "\"Computer science is about computers in the same way that astronomy is about telescopes. Rather than being about our tools, we're formalizing ways for discussing and designing processes.\"\n",
    "    - Professor Gerald Jay Sussman\n",
    "\n",
    "## Announements\n",
    "- MySQL Quiz this morning\n",
    "- Starting Python Today\n",
    "- Learn to Code Intro to Data Science and Python Workshop Saturday\n",
    "\n",
    "\n",
    "## Agenda\n",
    "1. MySQL Quiz (40 minutes)\n",
    "<br>\n",
    "2. Install Anaconda & setup python\n",
    "\n",
    "3. Introduce Jupyter Notebooks\n",
    "\n",
    "4. Data Types, Operators, Variables"
   ]
  },
  {
   "cell_type": "markdown",
   "metadata": {},
   "source": [
    "<a href=\"google.com\">Let me google that for you </a>"
   ]
  },
  {
   "cell_type": "markdown",
   "metadata": {},
   "source": [
    "[let me google that for you](http://google.com)"
   ]
  },
  {
   "cell_type": "code",
   "execution_count": null,
   "metadata": {},
   "outputs": [],
   "source": [
    "|"
   ]
  }
 ],
 "metadata": {
  "kernelspec": {
   "display_name": "Python 3",
   "language": "python",
   "name": "python3"
  },
  "language_info": {
   "codemirror_mode": {
    "name": "ipython",
    "version": 3
   },
   "file_extension": ".py",
   "mimetype": "text/x-python",
   "name": "python",
   "nbconvert_exporter": "python",
   "pygments_lexer": "ipython3",
   "version": "3.7.3"
  }
 },
 "nbformat": 4,
 "nbformat_minor": 2
}
