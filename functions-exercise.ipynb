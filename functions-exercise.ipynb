{
 "cells": [
  {
   "cell_type": "markdown",
   "metadata": {},
   "source": [
    "# Functions Exercise\n",
    "\n",
    "- **refactor**: to change the underlying code without changing the external behavior"
   ]
  },
  {
   "cell_type": "code",
   "execution_count": 12,
   "metadata": {},
   "outputs": [],
   "source": [
    "def is_two(x):\n",
    "    return x in [2, '2', 'two']\n",
    "\n",
    "assert is_two(2) == True\n",
    "assert is_two('2') == True\n",
    "assert is_two('four') == False\n",
    "assert is_two(3) == False\n",
    "assert is_two(4) == False\n",
    "assert is_two('two') == True"
   ]
  },
  {
   "cell_type": "code",
   "execution_count": 21,
   "metadata": {},
   "outputs": [],
   "source": [
    "def is_vowel(c):\n",
    "    if len(c) > 1:\n",
    "        return False\n",
    "    c = c.lower()\n",
    "    if c == 'a':\n",
    "        return True\n",
    "    elif c == 'e':\n",
    "        return True\n",
    "    elif c == 'i':\n",
    "        return True\n",
    "    elif c == 'o':\n",
    "        return True\n",
    "    elif c == 'u':\n",
    "        return True\n",
    "    else:\n",
    "        return False\n",
    "\n",
    "\n",
    "def is_vowel(c):\n",
    "    vowels = ['a', 'e', 'i', 'o', 'u']\n",
    "    return len(c) == 1 and c.lower() in vowels\n",
    "    \n",
    "def is_vowel(c):\n",
    "    return len(c) == 1 and c.lower() in 'aeiou'\n",
    "    \n",
    "assert is_vowel('a') == True\n",
    "assert is_vowel('e') == True\n",
    "assert is_vowel('i') == True\n",
    "assert is_vowel('o') == True\n",
    "assert is_vowel('u') == True\n",
    "assert is_vowel('b') == False\n",
    "assert is_vowel('y') == False\n",
    "assert is_vowel('A') == True\n",
    "assert is_vowel('ab') == False\n",
    "assert is_vowel('aa') == False"
   ]
  },
  {
   "cell_type": "code",
   "execution_count": 26,
   "metadata": {},
   "outputs": [],
   "source": [
    "def is_consonant(c):\n",
    "    return not is_vowel(c)\n",
    "\n",
    "assert is_consonant('c') == True\n",
    "assert is_consonant('C') == True\n",
    "assert is_consonant('a') == False"
   ]
  },
  {
   "cell_type": "code",
   "execution_count": 29,
   "metadata": {},
   "outputs": [],
   "source": [
    "def cap_if_consonant(word):\n",
    "    if is_consonant(word[0]):\n",
    "        return word.capitalize()\n",
    "    else:\n",
    "        return word\n",
    "\n",
    "def cap_if_consonant(word):\n",
    "    if is_consonant(word[0]):\n",
    "        return word.capitalize()\n",
    "    return word\n",
    "\n",
    "def cap_if_consonant(word):\n",
    "    return word.capitalize() if is_consonant(word[0]) else word\n",
    "\n",
    "assert cap_if_consonant('codeup') == 'Codeup'\n",
    "assert cap_if_consonant('bayes') == 'Bayes'\n",
    "assert cap_if_consonant('aardvark') == 'aardvark'"
   ]
  },
  {
   "cell_type": "code",
   "execution_count": 34,
   "metadata": {},
   "outputs": [],
   "source": [
    "def calculate_tip(percentage, bill_amount):\n",
    "    if percentage > 1:\n",
    "        percentage /= 100\n",
    "    amount_to_tip = percentage * bill_amount\n",
    "    return amount_to_tip\n",
    "\n",
    "assert calculate_tip(.2, 20) == 4.0\n",
    "assert calculate_tip(20, 20) == 4.0\n",
    "assert calculate_tip(.25, 80) == 20.0"
   ]
  },
  {
   "cell_type": "code",
   "execution_count": null,
   "metadata": {},
   "outputs": [],
   "source": [
    "x = 3\n",
    "x /= 1"
   ]
  },
  {
   "cell_type": "code",
   "execution_count": 45,
   "metadata": {},
   "outputs": [],
   "source": [
    "def calculate_tip(bill_amount, percentage=.2):\n",
    "    if percentage > 1:\n",
    "        percentage /= 100 # percentage = percentage / 100\n",
    "    amount_to_tip = percentage * bill_amount\n",
    "    return amount_to_tip\n",
    "\n",
    "assert calculate_tip(20) == 4.0\n",
    "assert calculate_tip(20, .2) == 4.0\n",
    "assert calculate_tip(20, 20) == 4.0\n",
    "assert calculate_tip(80, .25) == 20.0"
   ]
  },
  {
   "cell_type": "code",
   "execution_count": 41,
   "metadata": {},
   "outputs": [],
   "source": [
    "def apply_discount(original_price, discount_percent):\n",
    "    discount_amount = original_price * discount_percent\n",
    "    return original_price - discount_amount\n",
    "    \n",
    "def apply_discount(original_price, discount_percent):\n",
    "    return original_price * (1 - discount_percent)\n",
    "\n",
    "assert apply_discount(20, .1) == 18\n",
    "assert apply_discount(100, .2) == 80.0"
   ]
  },
  {
   "cell_type": "code",
   "execution_count": 66,
   "metadata": {},
   "outputs": [],
   "source": [
    "def handle_commas(s):\n",
    "    s = s.replace(',', '')\n",
    "    return float(s)\n",
    "\n",
    "def handle_commas(s):\n",
    "    return float(s.replace(',', ''))\n",
    "\n",
    "def handle_commas(s):\n",
    "    return float(''.join([c for c in s if c != ',']))\n",
    "\n",
    "assert handle_commas('1,000') == 1000.0\n",
    "assert handle_commas('10') == 10.0\n",
    "assert handle_commas('1,000,000') == 1000000"
   ]
  },
  {
   "cell_type": "code",
   "execution_count": 58,
   "metadata": {},
   "outputs": [
    {
     "data": {
      "text/plain": [
       "['a', 'b', 'c', 'd']"
      ]
     },
     "execution_count": 58,
     "metadata": {},
     "output_type": "execute_result"
    }
   ],
   "source": [
    "'a,b,c,d'.split(',')"
   ]
  },
  {
   "cell_type": "code",
   "execution_count": 61,
   "metadata": {},
   "outputs": [
    {
     "data": {
      "text/plain": [
       "['a', 'b', 'c', 'd', 'e']"
      ]
     },
     "execution_count": 61,
     "metadata": {},
     "output_type": "execute_result"
    }
   ],
   "source": [
    "list('abcde')"
   ]
  },
  {
   "cell_type": "code",
   "execution_count": 63,
   "metadata": {},
   "outputs": [
    {
     "data": {
      "text/plain": [
       "'abc'"
      ]
     },
     "execution_count": 63,
     "metadata": {},
     "output_type": "execute_result"
    }
   ],
   "source": [
    "# .join will use a string as \"glue\" to put a list together\n",
    "\"---\".join(['a', 'b', 'c'])\n",
    "\"\".join(['a', 'b', 'c'])"
   ]
  },
  {
   "cell_type": "code",
   "execution_count": 74,
   "metadata": {},
   "outputs": [],
   "source": [
    "def get_letter_grade(numeric_grade):\n",
    "    if numeric_grade > 90:\n",
    "        return 'A'\n",
    "    elif numeric_grade > 80:\n",
    "        return 'B'\n",
    "    elif numeric_grade > 70:\n",
    "        return 'C'\n",
    "    else:\n",
    "        return 'F'\n",
    "\n",
    "assert get_letter_grade(93) == 'A'\n",
    "assert get_letter_grade(88) == 'B'\n",
    "assert get_letter_grade(12) == 'F'"
   ]
  },
  {
   "cell_type": "code",
   "execution_count": 72,
   "metadata": {},
   "outputs": [
    {
     "data": {
      "text/plain": [
       "'A-'"
      ]
     },
     "execution_count": 72,
     "metadata": {},
     "output_type": "execute_result"
    }
   ],
   "source": [
    "\n",
    "\n",
    "grade_minimums = (\n",
    "    ('A+',98.5),('A',91.5),('A-',89.5),\n",
    "    ('B+',88.5),('B',81.5),('B-',79.5),\n",
    "    ('C+',78.5),('C',71.5),('C-',69.5),\n",
    "    ('D+',68.5),('D',61.5),('D-',59.5),\n",
    "    ('F',0)\n",
    ")\n",
    "\n",
    "def get_letter_grade(numeric_grade):\n",
    "    ubound = max(100, numeric_grade + .01)\n",
    "    for grade in grade_minimums:\n",
    "        if numeric_grade < grade[1]:\n",
    "            ubound = grade[1]\n",
    "        else:\n",
    "            return grade[0]\n",
    "        \n",
    "\n",
    "assert get_letter_grade(150) == 'A+'\n",
    "assert get_letter_grade(98.4) == 'A'\n",
    "assert get_letter_grade(91) == 'A-'\n",
    "assert get_letter_grade(59.4) == 'F'\n",
    "assert get_letter_grade(81.5) == 'B'\n",
    "assert get_letter_grade(89.5) == 'A-'\n",
    "\n",
    "get_letter_grade(90)"
   ]
  },
  {
   "cell_type": "code",
   "execution_count": 73,
   "metadata": {},
   "outputs": [
    {
     "data": {
      "text/plain": [
       "'C'"
      ]
     },
     "execution_count": 73,
     "metadata": {},
     "output_type": "execute_result"
    }
   ],
   "source": [
    "grades = {\n",
    "    'A': range(94, 101),\n",
    "    'B': range(87, 94),\n",
    "    'C': range(80, 87),\n",
    "    'D': range(70, 80),\n",
    "    'F': range(0, 70)\n",
    "}\n",
    "\n",
    "def get_letter_grade(n):\n",
    "    for grade_letter, grade_range in grades.items():\n",
    "        if round(n) in grade_range:\n",
    "            return grade_letter\n",
    "    return 'Error: don\\'t know how to get a letter grade for %s' % n\n",
    "\n",
    "get_letter_grade(80)"
   ]
  },
  {
   "cell_type": "code",
   "execution_count": 78,
   "metadata": {},
   "outputs": [
    {
     "data": {
      "text/plain": [
       "dict_items([('A', range(94, 101)), ('B', range(87, 94)), ('C', range(80, 87)), ('D', range(70, 80)), ('F', range(0, 70))])"
      ]
     },
     "execution_count": 78,
     "metadata": {},
     "output_type": "execute_result"
    }
   ],
   "source": [
    "grades.items()"
   ]
  },
  {
   "cell_type": "code",
   "execution_count": 77,
   "metadata": {},
   "outputs": [
    {
     "data": {
      "text/plain": [
       "False"
      ]
     },
     "execution_count": 77,
     "metadata": {},
     "output_type": "execute_result"
    }
   ],
   "source": [
    "1.5 in range(0, 3)"
   ]
  },
  {
   "cell_type": "code",
   "execution_count": 79,
   "metadata": {},
   "outputs": [
    {
     "data": {
      "text/plain": [
       "[1, 2, 3, 4, 5, 6]"
      ]
     },
     "execution_count": 79,
     "metadata": {},
     "output_type": "execute_result"
    }
   ],
   "source": [
    "list(range(1, 7))"
   ]
  },
  {
   "cell_type": "code",
   "execution_count": 81,
   "metadata": {},
   "outputs": [
    {
     "data": {
      "text/plain": [
       "'hello, world!'"
      ]
     },
     "execution_count": 81,
     "metadata": {},
     "output_type": "execute_result"
    }
   ],
   "source": [
    "name = 'world'\n",
    "\n",
    "def sayhello():\n",
    "    return 'hello, {}!'.format(name)\n",
    "\n",
    "sayhello()"
   ]
  },
  {
   "cell_type": "code",
   "execution_count": 83,
   "metadata": {},
   "outputs": [
    {
     "data": {
      "text/plain": [
       "'hello, codeup!'"
      ]
     },
     "execution_count": 83,
     "metadata": {},
     "output_type": "execute_result"
    }
   ],
   "source": [
    "# name = 'world'\n",
    "\n",
    "def sayhello(name=name):\n",
    "    return 'hello, {}!'.format(name)\n",
    "\n",
    "name = 'codeup'\n",
    "sayhello()"
   ]
  },
  {
   "cell_type": "code",
   "execution_count": 123,
   "metadata": {},
   "outputs": [
    {
     "name": "stdout",
     "output_type": "stream",
     "text": [
      "27\n",
      "37\n",
      "-3\n"
     ]
    }
   ],
   "source": [
    "x = 14\n",
    "\n",
    "def changeit():\n",
    "    x = 37\n",
    "    return x\n",
    "\n",
    "x = 27\n",
    "\n",
    "print(x)\n",
    "print(changeit())\n",
    "\n",
    "x = -3\n",
    "\n",
    "print(x)"
   ]
  }
 ],
 "metadata": {
  "kernelspec": {
   "display_name": "Python 3",
   "language": "python",
   "name": "python3"
  },
  "language_info": {
   "codemirror_mode": {
    "name": "ipython",
    "version": 3
   },
   "file_extension": ".py",
   "mimetype": "text/x-python",
   "name": "python",
   "nbconvert_exporter": "python",
   "pygments_lexer": "ipython3",
   "version": "3.7.1"
  }
 },
 "nbformat": 4,
 "nbformat_minor": 2
}
